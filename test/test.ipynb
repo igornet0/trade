{
 "cells": [
  {
   "cell_type": "code",
   "execution_count": 5,
   "metadata": {},
   "outputs": [],
   "source": [
    "import os\n",
    "import pandas as pd\n",
    "from datetime import datetime, timedelta\n",
    "import numpy as np\n",
    "import pandas as pd\n",
    "import time"
   ]
  },
  {
   "cell_type": "code",
   "execution_count": 6,
   "metadata": {},
   "outputs": [],
   "source": [
    "class Handler:\n",
    "\n",
    "    def __init__(self, path_launch:str, path_data: str) -> None:\n",
    "        self.main_dir = os.getcwd()\n",
    "        self.path_launch = path_launch\n",
    "        self.path_data = path_data\n",
    "        self.flag = False\n",
    "\n",
    "    def add_tree(self):\n",
    "        self.tree = [1,2,3,4]\n",
    "\n",
    "    def split_timetravel(self, timetravel: str, flag_save: bool = False, path_filter: str = \"launch\") -> pd.DataFrame:\n",
    "\n",
    "        self.add_tree()\n",
    "\n",
    "        print({\"Info start split\"})\n",
    "        "
   ]
  },
  {
   "cell_type": "code",
   "execution_count": 7,
   "metadata": {},
   "outputs": [],
   "source": [
    "dp = Handler(\"data\", \"data\")"
   ]
  },
  {
   "cell_type": "code",
   "execution_count": null,
   "metadata": {},
   "outputs": [],
   "source": [
    "class Process:\n",
    "\n",
    "    def __init__(self, dataset: pd.DataFrame = None, timetravel: str = \"5m\") -> None:\n",
    "\n",
    "        self.timetravel = timetravel\n",
    "        self.time_seconds = int(timetravel.replace(timetravel[-1], \"\")) * {\"m\": 60, \"H\": 60**2, \"D\":24*60**2}[timetravel[-1]]\n",
    "\n",
    "        self.timetravel_dict = self.create_timetravel_dict()\n",
    "\n",
    "        self.dataset = dataset\n",
    "\n",
    "    @dp.split_timetravel()\n",
    "    def split_df(self, dataset: pd.DataFrame = None, timetravel: str = None) -> pd.DataFrame:\n",
    "        if dataset is None:\n",
    "            dataset = self.dataset.copy()\n",
    "        if timetravel is None:\n",
    "            timetravel = self.timetravel\n",
    "    \n",
    "\n",
    "\n",
    "        return dataset\n",
    "        "
   ]
  }
 ],
 "metadata": {
  "kernelspec": {
   "display_name": "venv",
   "language": "python",
   "name": "python3"
  },
  "language_info": {
   "codemirror_mode": {
    "name": "ipython",
    "version": 3
   },
   "file_extension": ".py",
   "mimetype": "text/x-python",
   "name": "python",
   "nbconvert_exporter": "python",
   "pygments_lexer": "ipython3",
   "version": "3.10.14"
  }
 },
 "nbformat": 4,
 "nbformat_minor": 2
}
