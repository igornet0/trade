{
 "cells": [
  {
   "cell_type": "code",
   "execution_count": 7,
   "metadata": {},
   "outputs": [],
   "source": [
    "from os import listdir\n",
    "import pandas as pd\n",
    "from datetime import datetime, timedelta\n",
    "import numpy as np\n",
    "import time"
   ]
  },
  {
   "cell_type": "code",
   "execution_count": 8,
   "metadata": {},
   "outputs": [],
   "source": [
    "def get_time_range(timetravel) -> dict:\n",
    "        time_start = \"07:00\"\n",
    "\n",
    "        if timetravel[-1] == \"m\":\n",
    "            time_end = \"18:55\"\n",
    "\n",
    "        elif timetravel == \"1H\":\n",
    "            time_end = \"18:00\"\n",
    "\n",
    "        elif timetravel == \"4H\":\n",
    "            time_end = \"15:00\"\n",
    "\n",
    "        elif timetravel == \"1D\":\n",
    "            time_end, time_start = \"00:00\", \"00:00\"\n",
    "    \n",
    "        time_range = pd.date_range(start=time_start, end=time_end, freq=timetravel.replace(\"m\", \"T\"))\n",
    "\n",
    "        return time_range"
   ]
  },
  {
   "cell_type": "code",
   "execution_count": 9,
   "metadata": {},
   "outputs": [],
   "source": [
    "a = get_time_range(\"4H\")"
   ]
  },
  {
   "cell_type": "code",
   "execution_count": 11,
   "metadata": {},
   "outputs": [
    {
     "data": {
      "text/plain": [
       "Timestamp('2024-03-19 15:00:00')"
      ]
     },
     "execution_count": 11,
     "metadata": {},
     "output_type": "execute_result"
    }
   ],
   "source": [
    "a[-1]"
   ]
  }
 ],
 "metadata": {
  "kernelspec": {
   "display_name": "venv",
   "language": "python",
   "name": "python3"
  },
  "language_info": {
   "codemirror_mode": {
    "name": "ipython",
    "version": 3
   },
   "file_extension": ".py",
   "mimetype": "text/x-python",
   "name": "python",
   "nbconvert_exporter": "python",
   "pygments_lexer": "ipython3",
   "version": "3.9.8"
  }
 },
 "nbformat": 4,
 "nbformat_minor": 2
}
